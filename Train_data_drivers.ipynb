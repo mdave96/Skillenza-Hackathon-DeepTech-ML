{
  "nbformat": 4,
  "nbformat_minor": 0,
  "metadata": {
    "colab": {
      "name": "Train_data_drivers.ipynb",
      "provenance": [],
      "toc_visible": true
    },
    "kernelspec": {
      "name": "python3",
      "display_name": "Python 3"
    }
  },
  "cells": [
    {
      "cell_type": "code",
      "metadata": {
        "id": "HkYUbHDINNq_",
        "colab_type": "code",
        "colab": {
          "base_uri": "https://localhost:8080/",
          "height": 34
        },
        "outputId": "e64dedb4-3343-4c4e-af93-0626293a2361"
      },
      "source": [
        "# Change this accordingly to run this notebook\n",
        "cd drive/'My Drive'/CMI/sem-4/skillenza_hackathon"
      ],
      "execution_count": 1,
      "outputs": [
        {
          "output_type": "stream",
          "text": [
            "/content/drive/My Drive/CMI/sem-4/skillenza_hackathon\n"
          ],
          "name": "stdout"
        }
      ]
    },
    {
      "cell_type": "code",
      "metadata": {
        "id": "Z6gF-KPsNkCB",
        "colab_type": "code",
        "colab": {
          "base_uri": "https://localhost:8080/",
          "height": 68
        },
        "outputId": "f497194d-4767-4726-b3cf-4d05e5bbb46c"
      },
      "source": [
        "ls"
      ],
      "execution_count": 2,
      "outputs": [
        {
          "output_type": "stream",
          "text": [
            " Forecast_VAR_model.ipynb   'Test dataset v1.xlsx'\n",
            " skillenza_hackathon.ipynb   Train_data_drivers.ipynb\n",
            " skillenza_NN_model.ipynb    Training-Data-Sets.xlsx\n"
          ],
          "name": "stdout"
        }
      ]
    },
    {
      "cell_type": "code",
      "metadata": {
        "id": "S2jz9Vh-NlC2",
        "colab_type": "code",
        "colab": {}
      },
      "source": [
        "import numpy as np\n",
        "import pandas as pd\n",
        "pd.options.display.float_format = '{:.6f}'.format # So that values don't get displayed in 1.0000e7 format.\n",
        "import matplotlib.pyplot as plt\n",
        "from sklearn.ensemble import GradientBoostingRegressor\n",
        "from sklearn.preprocessing import StandardScaler\n",
        "\n",
        "from xgboost import XGBRegressor\n",
        "from xgboost import plot_importance"
      ],
      "execution_count": 0,
      "outputs": []
    },
    {
      "cell_type": "code",
      "metadata": {
        "id": "wVG1cTekN-y_",
        "colab_type": "code",
        "colab": {
          "base_uri": "https://localhost:8080/",
          "height": 224
        },
        "outputId": "7233bcf7-259f-4260-b077-f0984dadc3a7"
      },
      "source": [
        "train = pd.read_excel('Training-Data-Sets.xlsx')\n",
        "train.head()"
      ],
      "execution_count": 4,
      "outputs": [
        {
          "output_type": "execute_result",
          "data": {
            "text/html": [
              "<div>\n",
              "<style scoped>\n",
              "    .dataframe tbody tr th:only-of-type {\n",
              "        vertical-align: middle;\n",
              "    }\n",
              "\n",
              "    .dataframe tbody tr th {\n",
              "        vertical-align: top;\n",
              "    }\n",
              "\n",
              "    .dataframe thead th {\n",
              "        text-align: right;\n",
              "    }\n",
              "</style>\n",
              "<table border=\"1\" class=\"dataframe\">\n",
              "  <thead>\n",
              "    <tr style=\"text-align: right;\">\n",
              "      <th></th>\n",
              "      <th>Day</th>\n",
              "      <th>EQ</th>\n",
              "      <th>Social_Search_Impressions</th>\n",
              "      <th>Social_Search_Working_cost</th>\n",
              "      <th>Digital_Impressions</th>\n",
              "      <th>Digital_Working_cost</th>\n",
              "      <th>Print_Impressions.Ads40</th>\n",
              "      <th>Print_Working_Cost.Ads50</th>\n",
              "      <th>OOH_Impressions</th>\n",
              "      <th>OOH_Working_Cost</th>\n",
              "      <th>SOS_pct</th>\n",
              "      <th>Digital_Impressions_pct</th>\n",
              "      <th>CCFOT</th>\n",
              "      <th>Median_Temp</th>\n",
              "      <th>Median_Rainfall</th>\n",
              "      <th>Fuel_Price</th>\n",
              "      <th>Inflation</th>\n",
              "      <th>Trade_Invest</th>\n",
              "      <th>Brand_Equity</th>\n",
              "      <th>Avg_EQ_Price</th>\n",
              "      <th>Any_Promo_pct_ACV</th>\n",
              "      <th>Any_Feat_pct_ACV</th>\n",
              "      <th>Any_Disp_pct_ACV</th>\n",
              "      <th>EQ_Base_Price</th>\n",
              "      <th>Est_ACV_Selling</th>\n",
              "      <th>pct_ACV</th>\n",
              "      <th>Avg_no_of_Items</th>\n",
              "      <th>pct_PromoMarketDollars_Category</th>\n",
              "      <th>RPI_Category</th>\n",
              "      <th>Magazine_Impressions_pct</th>\n",
              "      <th>TV_GRP</th>\n",
              "      <th>Competitor1_RPI</th>\n",
              "      <th>Competitor2_RPI</th>\n",
              "      <th>Competitor3_RPI</th>\n",
              "      <th>Competitor4_RPI</th>\n",
              "      <th>EQ_Category</th>\n",
              "      <th>EQ_Subcategory</th>\n",
              "      <th>pct_PromoMarketDollars_Subcategory</th>\n",
              "      <th>RPI_Subcategory</th>\n",
              "    </tr>\n",
              "  </thead>\n",
              "  <tbody>\n",
              "    <tr>\n",
              "      <th>0</th>\n",
              "      <td>1</td>\n",
              "      <td>718.458667</td>\n",
              "      <td>22256928</td>\n",
              "      <td>56812</td>\n",
              "      <td>7724107</td>\n",
              "      <td>238700</td>\n",
              "      <td>151438</td>\n",
              "      <td>1044</td>\n",
              "      <td>112229070</td>\n",
              "      <td>2133614</td>\n",
              "      <td>5</td>\n",
              "      <td>11</td>\n",
              "      <td>62</td>\n",
              "      <td>55</td>\n",
              "      <td>0.492980</td>\n",
              "      <td>8.069000</td>\n",
              "      <td>0.067591</td>\n",
              "      <td>7708</td>\n",
              "      <td>42.770000</td>\n",
              "      <td>43.090000</td>\n",
              "      <td>13.663000</td>\n",
              "      <td>5.250000</td>\n",
              "      <td>1.580000</td>\n",
              "      <td>1.679000</td>\n",
              "      <td>446172630</td>\n",
              "      <td>20.580000</td>\n",
              "      <td>2.813500</td>\n",
              "      <td>0.199600</td>\n",
              "      <td>36.223000</td>\n",
              "      <td>54.170000</td>\n",
              "      <td>16.460000</td>\n",
              "      <td>105.710000</td>\n",
              "      <td>36.130000</td>\n",
              "      <td>46.360000</td>\n",
              "      <td>71.830000</td>\n",
              "      <td>5420048</td>\n",
              "      <td>475559</td>\n",
              "      <td>0.376600</td>\n",
              "      <td>45.770000</td>\n",
              "    </tr>\n",
              "    <tr>\n",
              "      <th>1</th>\n",
              "      <td>2</td>\n",
              "      <td>25.521137</td>\n",
              "      <td>4239408</td>\n",
              "      <td>105695</td>\n",
              "      <td>5844288</td>\n",
              "      <td>188902</td>\n",
              "      <td>264008</td>\n",
              "      <td>113582</td>\n",
              "      <td>284597324</td>\n",
              "      <td>1719318</td>\n",
              "      <td>38</td>\n",
              "      <td>14</td>\n",
              "      <td>59</td>\n",
              "      <td>61</td>\n",
              "      <td>0.078110</td>\n",
              "      <td>9.328000</td>\n",
              "      <td>0.046174</td>\n",
              "      <td>6693</td>\n",
              "      <td>42.840000</td>\n",
              "      <td>44.260000</td>\n",
              "      <td>9.632000</td>\n",
              "      <td>1.870000</td>\n",
              "      <td>0.806000</td>\n",
              "      <td>1.654000</td>\n",
              "      <td>856199835</td>\n",
              "      <td>26.530000</td>\n",
              "      <td>2.358800</td>\n",
              "      <td>0.293900</td>\n",
              "      <td>43.028000</td>\n",
              "      <td>65.790000</td>\n",
              "      <td>15.640000</td>\n",
              "      <td>111.790000</td>\n",
              "      <td>43.310000</td>\n",
              "      <td>47.580000</td>\n",
              "      <td>67.900000</td>\n",
              "      <td>12155631</td>\n",
              "      <td>371540</td>\n",
              "      <td>0.251500</td>\n",
              "      <td>35.020000</td>\n",
              "    </tr>\n",
              "    <tr>\n",
              "      <th>2</th>\n",
              "      <td>3</td>\n",
              "      <td>268.288044</td>\n",
              "      <td>6708500</td>\n",
              "      <td>87686</td>\n",
              "      <td>13008485</td>\n",
              "      <td>19704</td>\n",
              "      <td>150505</td>\n",
              "      <td>38501</td>\n",
              "      <td>807781054</td>\n",
              "      <td>1569740</td>\n",
              "      <td>9</td>\n",
              "      <td>33</td>\n",
              "      <td>51</td>\n",
              "      <td>33</td>\n",
              "      <td>0.948630</td>\n",
              "      <td>9.553000</td>\n",
              "      <td>0.026979</td>\n",
              "      <td>2699</td>\n",
              "      <td>42.950000</td>\n",
              "      <td>48.330000</td>\n",
              "      <td>14.728000</td>\n",
              "      <td>5.640000</td>\n",
              "      <td>3.026000</td>\n",
              "      <td>1.620000</td>\n",
              "      <td>503553502</td>\n",
              "      <td>14.920000</td>\n",
              "      <td>2.839900</td>\n",
              "      <td>0.314830</td>\n",
              "      <td>42.031000</td>\n",
              "      <td>45.080000</td>\n",
              "      <td>23.910000</td>\n",
              "      <td>110.150000</td>\n",
              "      <td>38.260000</td>\n",
              "      <td>49.260000</td>\n",
              "      <td>72.700000</td>\n",
              "      <td>11939870</td>\n",
              "      <td>225984</td>\n",
              "      <td>0.367900</td>\n",
              "      <td>46.220000</td>\n",
              "    </tr>\n",
              "    <tr>\n",
              "      <th>3</th>\n",
              "      <td>4</td>\n",
              "      <td>209.071599</td>\n",
              "      <td>36835247</td>\n",
              "      <td>70791</td>\n",
              "      <td>2520814</td>\n",
              "      <td>200111</td>\n",
              "      <td>253458</td>\n",
              "      <td>53719</td>\n",
              "      <td>667441334</td>\n",
              "      <td>922723</td>\n",
              "      <td>9</td>\n",
              "      <td>43</td>\n",
              "      <td>56</td>\n",
              "      <td>51</td>\n",
              "      <td>0.709160</td>\n",
              "      <td>7.838000</td>\n",
              "      <td>0.106558</td>\n",
              "      <td>4898</td>\n",
              "      <td>43.530000</td>\n",
              "      <td>59.100000</td>\n",
              "      <td>0.465000</td>\n",
              "      <td>2.860000</td>\n",
              "      <td>1.006000</td>\n",
              "      <td>1.620000</td>\n",
              "      <td>463383476</td>\n",
              "      <td>28.920000</td>\n",
              "      <td>2.788900</td>\n",
              "      <td>0.076730</td>\n",
              "      <td>41.377000</td>\n",
              "      <td>75.240000</td>\n",
              "      <td>13.060000</td>\n",
              "      <td>116.740000</td>\n",
              "      <td>39.370000</td>\n",
              "      <td>44.210000</td>\n",
              "      <td>73.010000</td>\n",
              "      <td>7045541</td>\n",
              "      <td>551342</td>\n",
              "      <td>0.050400</td>\n",
              "      <td>38.100000</td>\n",
              "    </tr>\n",
              "    <tr>\n",
              "      <th>4</th>\n",
              "      <td>5</td>\n",
              "      <td>3482.169185</td>\n",
              "      <td>23693467</td>\n",
              "      <td>75610</td>\n",
              "      <td>9276779</td>\n",
              "      <td>65532</td>\n",
              "      <td>278877</td>\n",
              "      <td>95178</td>\n",
              "      <td>74045467</td>\n",
              "      <td>1834970</td>\n",
              "      <td>26</td>\n",
              "      <td>22</td>\n",
              "      <td>48</td>\n",
              "      <td>54</td>\n",
              "      <td>0.965470</td>\n",
              "      <td>8.085000</td>\n",
              "      <td>0.129135</td>\n",
              "      <td>8678</td>\n",
              "      <td>43.830000</td>\n",
              "      <td>48.500000</td>\n",
              "      <td>9.217000</td>\n",
              "      <td>4.280000</td>\n",
              "      <td>3.681000</td>\n",
              "      <td>1.434000</td>\n",
              "      <td>692252839</td>\n",
              "      <td>36.120000</td>\n",
              "      <td>2.807100</td>\n",
              "      <td>0.363880</td>\n",
              "      <td>38.153000</td>\n",
              "      <td>56.850000</td>\n",
              "      <td>40.720000</td>\n",
              "      <td>115.180000</td>\n",
              "      <td>36.850000</td>\n",
              "      <td>45.460000</td>\n",
              "      <td>75.840000</td>\n",
              "      <td>11488805</td>\n",
              "      <td>254143</td>\n",
              "      <td>0.221900</td>\n",
              "      <td>39.160000</td>\n",
              "    </tr>\n",
              "  </tbody>\n",
              "</table>\n",
              "</div>"
            ],
            "text/plain": [
              "   Day          EQ  ...  pct_PromoMarketDollars_Subcategory  RPI_Subcategory\n",
              "0    1  718.458667  ...                            0.376600        45.770000\n",
              "1    2   25.521137  ...                            0.251500        35.020000\n",
              "2    3  268.288044  ...                            0.367900        46.220000\n",
              "3    4  209.071599  ...                            0.050400        38.100000\n",
              "4    5 3482.169185  ...                            0.221900        39.160000\n",
              "\n",
              "[5 rows x 39 columns]"
            ]
          },
          "metadata": {
            "tags": []
          },
          "execution_count": 4
        }
      ]
    },
    {
      "cell_type": "code",
      "metadata": {
        "id": "4rw0w0pdN_j7",
        "colab_type": "code",
        "colab": {
          "base_uri": "https://localhost:8080/",
          "height": 282
        },
        "outputId": "d9b7d41a-5839-43f1-faec-bcd16ac5521b"
      },
      "source": [
        "y_train = train['EQ']\n",
        "plt.plot(y_train)"
      ],
      "execution_count": 5,
      "outputs": [
        {
          "output_type": "execute_result",
          "data": {
            "text/plain": [
              "[<matplotlib.lines.Line2D at 0x7fcbdc01d4e0>]"
            ]
          },
          "metadata": {
            "tags": []
          },
          "execution_count": 5
        },
        {
          "output_type": "display_data",
          "data": {
            "image/png": "[encoded data removed]",
            "text/plain": [
              "<Figure size 432x288 with 1 Axes>"
            ]
          },
          "metadata": {
            "tags": []
          }
        }
      ]
    },
    {
      "cell_type": "code",
      "metadata": {
        "id": "ufHNHVvyOCt7",
        "colab_type": "code",
        "colab": {
          "base_uri": "https://localhost:8080/",
          "height": 255
        },
        "outputId": "c921eee0-c69d-4703-d7fb-18dd96727027"
      },
      "source": [
        "train.columns"
      ],
      "execution_count": 6,
      "outputs": [
        {
          "output_type": "execute_result",
          "data": {
            "text/plain": [
              "Index(['Day', 'EQ', 'Social_Search_Impressions', 'Social_Search_Working_cost',\n",
              "       'Digital_Impressions', 'Digital_Working_cost',\n",
              "       'Print_Impressions.Ads40', 'Print_Working_Cost.Ads50',\n",
              "       'OOH_Impressions', 'OOH_Working_Cost', 'SOS_pct',\n",
              "       'Digital_Impressions_pct', 'CCFOT', 'Median_Temp', 'Median_Rainfall',\n",
              "       'Fuel_Price', 'Inflation', 'Trade_Invest', 'Brand_Equity',\n",
              "       'Avg_EQ_Price', 'Any_Promo_pct_ACV', 'Any_Feat_pct_ACV',\n",
              "       'Any_Disp_pct_ACV', 'EQ_Base_Price', 'Est_ACV_Selling', 'pct_ACV',\n",
              "       'Avg_no_of_Items', 'pct_PromoMarketDollars_Category', 'RPI_Category',\n",
              "       'Magazine_Impressions_pct', 'TV_GRP', 'Competitor1_RPI',\n",
              "       'Competitor2_RPI', 'Competitor3_RPI', 'Competitor4_RPI', 'EQ_Category',\n",
              "       'EQ_Subcategory', 'pct_PromoMarketDollars_Subcategory',\n",
              "       'RPI_Subcategory'],\n",
              "      dtype='object')"
            ]
          },
          "metadata": {
            "tags": []
          },
          "execution_count": 6
        }
      ]
    },
    {
      "cell_type": "markdown",
      "metadata": {
        "id": "hsMslQxfTqoF",
        "colab_type": "text"
      },
      "source": [
        "## Finding out drivers of sales (EQ)\n",
        "This is done using the training data provided of 12k rows."
      ]
    },
    {
      "cell_type": "code",
      "metadata": {
        "id": "kKSchz-NOFGQ",
        "colab_type": "code",
        "colab": {}
      },
      "source": [
        "y_train = np.asarray(train['EQ'])\n",
        "X_train = np.log(np.asarray(train.drop(['Day','EQ'],axis=1)))\n",
        "\n",
        "scaler = StandardScaler()\n",
        "X_train = scaler.fit_transform(X_train)\n",
        "\n",
        "########### OR ############# # Both log and standard scaler give the same features as important\n",
        "\n",
        "#y_train = np.log(y_train)                    # This puts y on log scale"
      ],
      "execution_count": 0,
      "outputs": []
    },
    {
      "cell_type": "code",
      "metadata": {
        "id": "uaZ7V9-QOdsa",
        "colab_type": "code",
        "colab": {
          "base_uri": "https://localhost:8080/",
          "height": 554
        },
        "outputId": "6fec844b-7cee-4490-b8fe-9e00d08c66a6"
      },
      "source": [
        "# Fitting a GB Regression model to find out important features\n",
        "gb = GradientBoostingRegressor(n_estimators=100)\n",
        "gb.fit(X_train, y_train)\n",
        "\n",
        "fig = plt.gcf()\n",
        "fig.set_size_inches(9,9)\n",
        "plt.barh(train.iloc[:,2:].columns, gb.feature_importances_)\n",
        "# There are 7 features that contribute the most to prediction"
      ],
      "execution_count": 21,
      "outputs": [
        {
          "output_type": "execute_result",
          "data": {
            "text/plain": [
              "<BarContainer object of 37 artists>"
            ]
          },
          "metadata": {
            "tags": []
          },
          "execution_count": 21
        },
        {
          "output_type": "display_data",
          "data": {
            "image/png": "[encoded data removed]",
            "text/plain": [
              "<Figure size 648x648 with 1 Axes>"
            ]
          },
          "metadata": {
            "tags": []
          }
        }
      ]
    },
    {
      "cell_type": "markdown",
      "metadata": {
        "id": "JFcA2XsmTBMB",
        "colab_type": "text"
      },
      "source": [
        "Hence, Following Drivers are most important for predicting sales (EQ) :<br>\n",
        "- Social_Search_Impressions\n",
        "- Median_Rainfall\n",
        "- Inflation\n",
        "- pct_PromoMarketDollars_Category\n",
        "- EQ_Category\n",
        "- EQ_Subcategory\n",
        "- pct_PromoMarketDollars_Subcategory"
      ]
    },
    {
      "cell_type": "code",
      "metadata": {
        "id": "_4Cw-obYTAqs",
        "colab_type": "code",
        "colab": {}
      },
      "source": [
        ""
      ],
      "execution_count": 0,
      "outputs": []
    },
    {
      "cell_type": "markdown",
      "metadata": {
        "id": "xjjYZXSYT3_A",
        "colab_type": "text"
      },
      "source": [
        "## NN model on training data to predict test data sales (EQ)\n",
        "This NN model trains on 12,000 rows of data and is able to capture the inherent patterns while predicting on the test data sales (EQ)"
      ]
    },
    {
      "cell_type": "code",
      "metadata": {
        "id": "FTVybpOwPuDM",
        "colab_type": "code",
        "colab": {
          "base_uri": "https://localhost:8080/",
          "height": 34
        },
        "outputId": "6f930b65-560a-493f-da9f-b03e28172563"
      },
      "source": [
        "%tensorflow_version 1.x\n",
        "from keras.models import Sequential\n",
        "from keras.layers import Dense\n",
        "\n",
        "from matplotlib.axes import Axes as ax"
      ],
      "execution_count": 32,
      "outputs": [
        {
          "output_type": "stream",
          "text": [
            "TensorFlow is already loaded. Please restart the runtime to change versions.\n"
          ],
          "name": "stdout"
        }
      ]
    },
    {
      "cell_type": "code",
      "metadata": {
        "id": "3EXd-UExUUCB",
        "colab_type": "code",
        "colab": {}
      },
      "source": [
        "y_train = np.log(np.asarray(train['EQ']))\n",
        "X_train = np.log(np.asarray(train.drop(['Day','EQ'],axis=1)))\n",
        "\n",
        "test = pd.read_excel('Test dataset v1.xlsx')\n",
        "y_test = np.log(np.asarray(test['EQ']))\n",
        "X_test = np.log(np.asarray(test.drop(['Period','EQ'],axis=1)))"
      ],
      "execution_count": 0,
      "outputs": []
    },
    {
      "cell_type": "code",
      "metadata": {
        "id": "hqDSiLoxgf6U",
        "colab_type": "code",
        "colab": {
          "base_uri": "https://localhost:8080/",
          "height": 391
        },
        "outputId": "0f08e7f3-435c-48e3-8c7a-4016a9a3dca5"
      },
      "source": [
        "# NN model\n",
        "\n",
        "# One hidden layer of size 12. anything more or less --> overfitting\n",
        "# Activation function tanh is used.\n",
        "# Weights are initialisd from normal distribution.\n",
        "# Any more or less Epochs again results in over or under fitting\n",
        "\n",
        "model = Sequential()\n",
        "model.add(Dense(12, input_dim=37, kernel_initializer='normal', activation='tanh'))\n",
        "#model.add(Dense(4, activation='tanh'))\n",
        "model.add(Dense(1,kernel_initializer='normal'))\n",
        "\n",
        "model.compile(loss='mean_squared_error', optimizer='adam')\n",
        "\n",
        "model.fit(X_train, y_train, epochs=10, batch_size=50, validation_split = 0.2, verbose = True)"
      ],
      "execution_count": 91,
      "outputs": [
        {
          "output_type": "stream",
          "text": [
            "Train on 9600 samples, validate on 2400 samples\n",
            "Epoch 1/10\n",
            "9600/9600 [==============================] - 1s 54us/step - loss: 16.9462 - val_loss: 9.9696\n",
            "Epoch 2/10\n",
            "9600/9600 [==============================] - 0s 26us/step - loss: 6.6041 - val_loss: 4.5184\n",
            "Epoch 3/10\n",
            "9600/9600 [==============================] - 0s 26us/step - loss: 3.7939 - val_loss: 3.3277\n",
            "Epoch 4/10\n",
            "9600/9600 [==============================] - 0s 27us/step - loss: 3.3068 - val_loss: 3.1674\n",
            "Epoch 5/10\n",
            "9600/9600 [==============================] - 0s 27us/step - loss: 3.2558 - val_loss: 3.1492\n",
            "Epoch 6/10\n",
            "9600/9600 [==============================] - 0s 27us/step - loss: 3.2521 - val_loss: 3.1466\n",
            "Epoch 7/10\n",
            "9600/9600 [==============================] - 0s 27us/step - loss: 3.2523 - val_loss: 3.1461\n",
            "Epoch 8/10\n",
            "9600/9600 [==============================] - 0s 26us/step - loss: 3.2526 - val_loss: 3.1463\n",
            "Epoch 9/10\n",
            "9600/9600 [==============================] - 0s 28us/step - loss: 3.2388 - val_loss: 3.0054\n",
            "Epoch 10/10\n",
            "9600/9600 [==============================] - 0s 26us/step - loss: 2.4216 - val_loss: 1.9346\n"
          ],
          "name": "stdout"
        },
        {
          "output_type": "execute_result",
          "data": {
            "text/plain": [
              "<keras.callbacks.History at 0x7fcb8ef7af60>"
            ]
          },
          "metadata": {
            "tags": []
          },
          "execution_count": 91
        }
      ]
    },
    {
      "cell_type": "code",
      "metadata": {
        "id": "zkpcDq2xgzoQ",
        "colab_type": "code",
        "colab": {
          "base_uri": "https://localhost:8080/",
          "height": 51
        },
        "outputId": "c5a1b2df-633c-4f4d-9fa4-363819415e90"
      },
      "source": [
        "model.evaluate(X_test,y_test,batch_size=50,verbose=True)"
      ],
      "execution_count": 92,
      "outputs": [
        {
          "output_type": "stream",
          "text": [
            "\r39/39 [==============================] - 0s 65us/step\n"
          ],
          "name": "stdout"
        },
        {
          "output_type": "execute_result",
          "data": {
            "text/plain": [
              "1.5630251169204712"
            ]
          },
          "metadata": {
            "tags": []
          },
          "execution_count": 92
        }
      ]
    },
    {
      "cell_type": "code",
      "metadata": {
        "id": "hOV5l5w6g2GJ",
        "colab_type": "code",
        "colab": {}
      },
      "source": [
        "# Predict on Test data\n",
        "pred_y = model.predict(X_test).reshape(39,)\n",
        "true_EQ = np.exp(y_test)\n",
        "pred_EQ = np.exp(pred_y)\n",
        "\n",
        "# Predict on Test data\n",
        "train_pred_y = model.predict(X_train).reshape(12000,)\n",
        "train_true_EQ = np.exp(y_train)\n",
        "train_pred_EQ = np.exp(train_pred_y)"
      ],
      "execution_count": 0,
      "outputs": []
    },
    {
      "cell_type": "code",
      "metadata": {
        "id": "c28DaQE50jJf",
        "colab_type": "code",
        "colab": {
          "base_uri": "https://localhost:8080/",
          "height": 295
        },
        "outputId": "32c2ab44-02dc-4f36-dd2a-a9b91edc1797"
      },
      "source": [
        "# Plot of Actual vs Fitted values on Train data\n",
        "plt.plot(train_true_EQ,\"-b\",label='Actual')\n",
        "plt.plot(train_pred_EQ,\"-r\",label='Fitted')\n",
        "plt.legend(loc=\"upper right\")\n",
        "plt.title('Actual vs Fitted EQ on Train data')\n",
        "plt.xlabel('Period')\n",
        "plt.ylabel('EQ')\n",
        "plt.show()"
      ],
      "execution_count": 100,
      "outputs": [
        {
          "output_type": "display_data",
          "data": {
            "image/png": "[encoded data removed]",
            "text/plain": [
              "<Figure size 432x288 with 1 Axes>"
            ]
          },
          "metadata": {
            "tags": []
          }
        }
      ]
    },
    {
      "cell_type": "code",
      "metadata": {
        "id": "vKHJ4GP01NcN",
        "colab_type": "code",
        "colab": {
          "base_uri": "https://localhost:8080/",
          "height": 34
        },
        "outputId": "9a339c76-b18a-4024-a09c-9565be6da4bf"
      },
      "source": [
        "train_mape = np.sum(abs((train_true_EQ - train_pred_EQ) / train_true_EQ)) / 12000\n",
        "print(\"Train MAPE is\",str(round(train_mape,4)))"
      ],
      "execution_count": 95,
      "outputs": [
        {
          "output_type": "stream",
          "text": [
            "Train MAPE is 3.0463\n"
          ],
          "name": "stdout"
        }
      ]
    },
    {
      "cell_type": "code",
      "metadata": {
        "id": "CbpHH-oyhESs",
        "colab_type": "code",
        "colab": {
          "base_uri": "https://localhost:8080/",
          "height": 295
        },
        "outputId": "56722172-049d-4555-9743-b3e3582c3a62"
      },
      "source": [
        "# Plot of Actual vs Precited EQ\n",
        "plt.plot(true_EQ,\"-b\",label='Actual')\n",
        "plt.plot(pred_EQ,\"-r\",label='Predicted')\n",
        "plt.legend(loc=\"upper right\")\n",
        "plt.title('Actual vs Predicted EQ')\n",
        "plt.xlabel('Period')\n",
        "plt.ylabel('EQ')\n",
        "plt.show()"
      ],
      "execution_count": 98,
      "outputs": [
        {
          "output_type": "display_data",
          "data": {
            "image/png": "[encoded data removed]",
            "text/plain": [
              "<Figure size 432x288 with 1 Axes>"
            ]
          },
          "metadata": {
            "tags": []
          }
        }
      ]
    },
    {
      "cell_type": "code",
      "metadata": {
        "id": "wrazjBnVhp8v",
        "colab_type": "code",
        "colab": {
          "base_uri": "https://localhost:8080/",
          "height": 34
        },
        "outputId": "e843b66a-a97f-411e-c1ec-d00ff2490735"
      },
      "source": [
        "test_mape = np.sum(abs((true_EQ - pred_EQ) / true_EQ)) / 39\n",
        "print(\"Test MAPE is \",str(round(test_mape,4)))"
      ],
      "execution_count": 97,
      "outputs": [
        {
          "output_type": "stream",
          "text": [
            "Test MAPE is  0.6621\n"
          ],
          "name": "stdout"
        }
      ]
    },
    {
      "cell_type": "markdown",
      "metadata": {
        "id": "PAh71Oq76ZD3",
        "colab_type": "text"
      },
      "source": [
        "It can be seen that although  the MAPE is larger, NN model captures the patterns and behaviour of the time series pretty well."
      ]
    }
  ]
}